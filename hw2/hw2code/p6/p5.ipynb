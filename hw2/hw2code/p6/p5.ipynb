{
 "cells": [
  {
   "cell_type": "code",
   "execution_count": 5,
   "metadata": {
    "collapsed": true
   },
   "outputs": [],
   "source": [
    "import time\n",
    "import sys\n",
    "import random\n",
    "from ipywidgets import IntProgress\n",
    "from IPython.display import display\n",
    "\n",
    "def get_label_feature(line):\n",
    "    line = line[0:-1].split(\",\")\n",
    "    if \"1\" == line[0]:\n",
    "        label = 1\n",
    "    else:\n",
    "        label = -1\n",
    "    text = line[1].split(\" \")\n",
    "    feature = {\"BIAS\": 1}\n",
    "    for i in range(len(text)-1):\n",
    "        pair = (text[i], text[i+1])\n",
    "        if None == feature.get(pair):\n",
    "            feature[pair] = 1\n",
    "        else:\n",
    "            feature[pair] += 1\n",
    "    return label, feature\n",
    "\n",
    "def get_value(classifier, feature):\n",
    "    value = 0\n",
    "    for word in feature:\n",
    "        if None == classifier.get(word):\n",
    "            continue\n",
    "        else:\n",
    "            value += classifier[word] * feature[word]\n",
    "    return value\n",
    "\n",
    "\n",
    "def perceptron_pass1(lines, classifier):\n",
    "    p = IntProgress(max = len(lines))\n",
    "    display(p)\n",
    "    random.shuffle(lines)\n",
    "    for line in lines:\n",
    "        label, feature = get_label_feature(line)\n",
    "        value = get_value(classifier, feature)\n",
    "        if label * value > 0:\n",
    "            pass\n",
    "        else:\n",
    "            for word in feature:\n",
    "                if None == classifier.get(word):\n",
    "                    classifier[word] = label * feature[word]\n",
    "                else:\n",
    "                    classifier[word] += label * feature[word]\n",
    "        p.value += 1\n",
    "        p.description = \"{}%\".format(round(100*(p.value/p.max), 1))\n",
    "    return classifier\n",
    "\n",
    "def perceptron_pass2(lines, classifier):\n",
    "    n = len(lines)\n",
    "    count = 0\n",
    "    p = IntProgress(max = n)\n",
    "    display(p)\n",
    "    c = classifier\n",
    "    random.shuffle(lines)\n",
    "    for line in lines:\n",
    "        count += 1\n",
    "        label, feature = get_label_feature(line)\n",
    "        value = get_value(classifier, feature)\n",
    "        if label * value > 0:\n",
    "            pass\n",
    "        else:\n",
    "            for word in feature:\n",
    "                if None == classifier.get(word):\n",
    "                    classifier[word] = label * feature[word]\n",
    "                    c[word] = label * feature[word] * (n - count) / n\n",
    "                else:\n",
    "                    classifier[word] += label * feature[word]\n",
    "                    c[word] += label * feature[word] * (n - count) / n\n",
    "        p.value = count\n",
    "        p.description = \"{}%\".format(round(100*p.value/p.max, 1))\n",
    "    p.description = \"Done\"\n",
    "    t2 = time.time()\n",
    "    print(\"pass 2 takes {} minutes\".format((t2-t0)/60))\n",
    "    return c\n",
    "\n",
    "def test(lines, classifier):\n",
    "    count = 0\n",
    "    correct = 0\n",
    "    p = IntPrograss(max = len(lines))\n",
    "    for line in lines:\n",
    "        count += 1\n",
    "        label, feature = get_label_feature(line)\n",
    "        value = get_value(classifier, feature)\n",
    "        if label * value >= 0:\n",
    "            correct += 1\n",
    "        p.value = count\n",
    "        p.description = \"{}\".format(count)\n",
    "    print(correct, count)\n",
    "    return correct / count"
   ]
  },
  {
   "cell_type": "code",
   "execution_count": 4,
   "metadata": {},
   "outputs": [
    {
     "name": "stdout",
     "output_type": "stream",
     "text": [
      "pass1\n"
     ]
    },
    {
     "data": {
      "application/vnd.jupyter.widget-view+json": {
       "model_id": "cc1934f37eb54b7e919c009efbf378ee",
       "version_major": 2,
       "version_minor": 0
      },
      "text/html": [
       "<p>Failed to display Jupyter Widget of type <code>IntProgress</code>.</p>\n",
       "<p>\n",
       "  If you're reading this message in the Jupyter Notebook or JupyterLab Notebook, it may mean\n",
       "  that the widgets JavaScript is still loading. If this message persists, it\n",
       "  likely means that the widgets JavaScript library is either not installed or\n",
       "  not enabled. See the <a href=\"https://ipywidgets.readthedocs.io/en/stable/user_install.html\">Jupyter\n",
       "  Widgets Documentation</a> for setup instructions.\n",
       "</p>\n",
       "<p>\n",
       "  If you're reading this message in another frontend (for example, a static\n",
       "  rendering on GitHub or <a href=\"https://nbviewer.jupyter.org/\">NBViewer</a>),\n",
       "  it may mean that your frontend doesn't currently support widgets.\n",
       "</p>\n"
      ],
      "text/plain": [
       "IntProgress(value=0, max=1000000)"
      ]
     },
     "metadata": {},
     "output_type": "display_data"
    }
   ],
   "source": [
    "train_path = \"../hw2data_1/reviews_tr.csv\"\n",
    "test_path = \"../hw2data_1/reviews_te.csv\"\n",
    "\n",
    "file = open(train_path, \"r\")\n",
    "_ = file.readline()\n",
    "\n",
    "classifier = {}\n",
    "lines = file.readlines()\n",
    "\n",
    "print(\"pass1\")\n",
    "classifier = perceptron_pass1(lines, classifier)"
   ]
  },
  {
   "cell_type": "code",
   "execution_count": 6,
   "metadata": {},
   "outputs": [
    {
     "name": "stdout",
     "output_type": "stream",
     "text": [
      "pass2\n"
     ]
    },
    {
     "data": {
      "application/vnd.jupyter.widget-view+json": {
       "model_id": "7e29d4386a014a118b90fdabb3b38049",
       "version_major": 2,
       "version_minor": 0
      },
      "text/html": [
       "<p>Failed to display Jupyter Widget of type <code>IntProgress</code>.</p>\n",
       "<p>\n",
       "  If you're reading this message in the Jupyter Notebook or JupyterLab Notebook, it may mean\n",
       "  that the widgets JavaScript is still loading. If this message persists, it\n",
       "  likely means that the widgets JavaScript library is either not installed or\n",
       "  not enabled. See the <a href=\"https://ipywidgets.readthedocs.io/en/stable/user_install.html\">Jupyter\n",
       "  Widgets Documentation</a> for setup instructions.\n",
       "</p>\n",
       "<p>\n",
       "  If you're reading this message in another frontend (for example, a static\n",
       "  rendering on GitHub or <a href=\"https://nbviewer.jupyter.org/\">NBViewer</a>),\n",
       "  it may mean that your frontend doesn't currently support widgets.\n",
       "</p>\n"
      ],
      "text/plain": [
       "IntProgress(value=0, max=1000000)"
      ]
     },
     "metadata": {},
     "output_type": "display_data"
    }
   ],
   "source": [
    "print(\"pass2\")\n",
    "classifier = perceptron_pass2(lines, classifier)\n",
    "\n",
    "file.close()"
   ]
  },
  {
   "cell_type": "code",
   "execution_count": 8,
   "metadata": {},
   "outputs": [
    {
     "name": "stdout",
     "output_type": "stream",
     "text": [
      "test\n",
      "279803 320122\n",
      "accuracy: 0.8740511430017306\n"
     ]
    }
   ],
   "source": [
    "file = open(test_path, \"r\")\n",
    "_ = file.readline()\n",
    "lines = file.readlines()\n",
    "print(\"test\")\n",
    "accuracy = test(lines, classifier)\n",
    "file.close()\n",
    "print(\"accuracy: {}\".format(accuracy))\n",
    "#print(count)\n",
    "#print(classifier)"
   ]
  },
  {
   "cell_type": "code",
   "execution_count": 7,
   "metadata": {},
   "outputs": [
    {
     "data": {
      "text/plain": [
       "2421960"
      ]
     },
     "execution_count": 7,
     "metadata": {},
     "output_type": "execute_result"
    }
   ],
   "source": [
    "len(classifier)"
   ]
  },
  {
   "cell_type": "code",
   "execution_count": 9,
   "metadata": {
    "collapsed": true
   },
   "outputs": [],
   "source": [
    "import marshal\n",
    "\n",
    "with open(\"./bigram\", \"wb\") as f:\n",
    "    f.write(marshal.dumps(classifier))\n",
    "f.close()"
   ]
  },
  {
   "cell_type": "code",
   "execution_count": null,
   "metadata": {
    "collapsed": true
   },
   "outputs": [],
   "source": []
  }
 ],
 "metadata": {
  "kernelspec": {
   "display_name": "Python 3",
   "language": "python",
   "name": "python3"
  },
  "language_info": {
   "codemirror_mode": {
    "name": "ipython",
    "version": 3
   },
   "file_extension": ".py",
   "mimetype": "text/x-python",
   "name": "python",
   "nbconvert_exporter": "python",
   "pygments_lexer": "ipython3",
   "version": "3.6.3"
  }
 },
 "nbformat": 4,
 "nbformat_minor": 2
}
