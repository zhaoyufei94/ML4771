{
 "cells": [
  {
   "cell_type": "code",
   "execution_count": 1,
   "metadata": {},
   "outputs": [],
   "source": [
    "import scipy.io\n",
    "import numpy as np\n",
    "import csv"
   ]
  },
  {
   "cell_type": "code",
   "execution_count": 2,
   "metadata": {},
   "outputs": [],
   "source": [
    "data = scipy.io.loadmat('MSdata.mat')"
   ]
  },
  {
   "cell_type": "code",
   "execution_count": 3,
   "metadata": {},
   "outputs": [
    {
     "data": {
      "text/plain": [
       "{'__globals__': [],\n",
       " '__header__': b'MATLAB 5.0 MAT-file, Platform: PCWIN64, Created on: Sun Nov 12 22:59:49 2017',\n",
       " '__version__': '1.0',\n",
       " 'testx': array([[ 45.442  , -30.74976,  31.78587, ...,  -3.86253,  36.424  ,\n",
       "           7.17309],\n",
       "        [ 52.67814,  -2.88914,  43.95268, ...,  -4.00966, -68.96211,\n",
       "          -5.21525],\n",
       "        [ 45.74235,  12.02291,  11.03009, ..., -10.92522,  26.75348,\n",
       "          -5.78743],\n",
       "        ..., \n",
       "        [ 45.12852,  12.65758, -38.72018, ...,  -6.07171,  53.96319,\n",
       "          -8.09364],\n",
       "        [ 44.16614,  32.38368,  -3.34971, ...,  20.3224 ,  14.83107,\n",
       "          39.74909],\n",
       "        [ 51.85726,  59.11655,  26.39436, ...,  -5.51512,  32.35602,\n",
       "          12.17352]]),\n",
       " 'trainx': array([[  4.99435700e+01,   2.14711400e+01,   7.30775000e+01, ...,\n",
       "          -1.82223000e+00,  -2.74634800e+01,   2.26327000e+00],\n",
       "        [  4.87321500e+01,   1.84293000e+01,   7.03267900e+01, ...,\n",
       "           1.20494100e+01,   5.84345300e+01,   2.69206100e+01],\n",
       "        [  5.09571400e+01,   3.18560200e+01,   5.58185100e+01, ...,\n",
       "          -5.85900000e-02,   3.96706800e+01,  -6.63450000e-01],\n",
       "        ..., \n",
       "        [  4.43761200e+01,   1.62531000e+00,   3.81655600e+01, ...,\n",
       "          -4.39948000e+00,   2.24294100e+01,  -4.10893000e+00],\n",
       "        [  4.48872300e+01,   1.41476000e+01,  -5.70694000e+00, ...,\n",
       "           1.15707100e+01,   1.06615090e+02,   1.68088100e+01],\n",
       "        [  5.03220100e+01,   6.71191000e+00,   5.40560700e+01, ...,\n",
       "           3.77736000e+00,  -4.29488800e+01,   5.27800000e-02]]),\n",
       " 'trainy': array([[2001],\n",
       "        [2001],\n",
       "        [2001],\n",
       "        ..., \n",
       "        [2007],\n",
       "        [2006],\n",
       "        [2007]], dtype=uint16)}"
      ]
     },
     "execution_count": 3,
     "metadata": {},
     "output_type": "execute_result"
    }
   ],
   "source": [
    "data"
   ]
  },
  {
   "cell_type": "code",
   "execution_count": 4,
   "metadata": {},
   "outputs": [],
   "source": [
    "X_test=data['testx']\n",
    "X_train=data['trainx']\n",
    "y_train=data['trainy']\n",
    "y_train=y_train.ravel()"
   ]
  },
  {
   "cell_type": "code",
   "execution_count": 6,
   "metadata": {},
   "outputs": [],
   "source": [
    "from sklearn.model_selection import GridSearchCV\n",
    "from sklearn.preprocessing import StandardScaler\n",
    "from sklearn.model_selection import KFold\n",
    "from sklearn.pipeline import make_pipeline\n",
    "kfold = KFold(n_splits = 5,random_state =1,shuffle=True)"
   ]
  },
  {
   "cell_type": "code",
   "execution_count": 10,
   "metadata": {},
   "outputs": [],
   "source": [
    "import xgboost as xgb\n",
    "from xgboost import XGBRegressor"
   ]
  },
  {
   "cell_type": "code",
   "execution_count": 11,
   "metadata": {},
   "outputs": [],
   "source": [
    "scaler=StandardScaler().fit(X_train)\n",
    "X_train=scaler.transform(X_train)\n",
    "X_test=scaler.transform(X_test)\n",
    "xgdmat=xgb.DMatrix(X_train,y_train)\n",
    "tesdmat=xgb.DMatrix(X_test)"
   ]
  },
  {
   "cell_type": "code",
   "execution_count": 15,
   "metadata": {},
   "outputs": [],
   "source": [
    "para_grid={'max_depth':np.arange(2,7),'n_estimators':range(100,301,10)}"
   ]
  },
  {
   "cell_type": "code",
   "execution_count": 16,
   "metadata": {},
   "outputs": [],
   "source": [
    "xgbr=XGBRegressor(learning_rate=0.1,silent=1)"
   ]
  },
  {
   "cell_type": "code",
   "execution_count": 17,
   "metadata": {},
   "outputs": [],
   "source": [
    "grid=GridSearchCV(xgbr,para_grid,cv=kfold,scoring='neg_mean_absolute_error')"
   ]
  },
  {
   "cell_type": "code",
   "execution_count": 18,
   "metadata": {},
   "outputs": [
    {
     "data": {
      "text/plain": [
       "dict_keys(['subsample', 'missing', 'random_state', 'colsample_bytree', 'n_jobs', 'gamma', 'scale_pos_weight', 'seed', 'colsample_bylevel', 'nthread', 'reg_lambda', 'min_child_weight', 'booster', 'silent', 'base_score', 'n_estimators', 'learning_rate', 'max_depth', 'max_delta_step', 'reg_alpha', 'objective'])"
      ]
     },
     "execution_count": 18,
     "metadata": {},
     "output_type": "execute_result"
    }
   ],
   "source": [
    "XGBRegressor().get_params().keys()"
   ]
  },
  {
   "cell_type": "code",
   "execution_count": null,
   "metadata": {},
   "outputs": [],
   "source": [
    "grid.fit(X_train,y_train)"
   ]
  },
  {
   "cell_type": "code",
   "execution_count": null,
   "metadata": {},
   "outputs": [],
   "source": [
    " grid.best_score_"
   ]
  },
  {
   "cell_type": "code",
   "execution_count": 22,
   "metadata": {},
   "outputs": [
    {
     "data": {
      "text/plain": [
       "array([ 1994.48706055,  2000.44885254,  2002.02868652, ...,  2001.92297363,\n",
       "        1997.04492188,  2002.49975586], dtype=float32)"
      ]
     },
     "execution_count": 22,
     "metadata": {},
     "output_type": "execute_result"
    }
   ],
   "source": [
    "y_pred=final_gb.predict(tesdmat)\n",
    "y_pred"
   ]
  },
  {
   "cell_type": "code",
   "execution_count": 23,
   "metadata": {},
   "outputs": [],
   "source": [
    "prediction=y_pred\n",
    "\n",
    "header=np.array(['dataid','prediction'])\n",
    "\n",
    "with open(\"test.csv\",\"w\") as f: \n",
    "    writer = csv.writer(f)\n",
    "    writer.writerow(header)\n",
    "    for i in range(51630):\n",
    "        f.write(\"{},{}\\n\".format(i+1, int(y_pred[i])))"
   ]
  },
  {
   "cell_type": "code",
   "execution_count": 28,
   "metadata": {},
   "outputs": [
    {
     "data": {
      "text/plain": [
       "array([2, 3, 4, 5, 6])"
      ]
     },
     "execution_count": 28,
     "metadata": {},
     "output_type": "execute_result"
    }
   ],
   "source": [
    "np.(2,7)"
   ]
  },
  {
   "cell_type": "code",
   "execution_count": null,
   "metadata": {},
   "outputs": [],
   "source": []
  }
 ],
 "metadata": {
  "anaconda-cloud": {},
  "kernelspec": {
   "display_name": "Python [conda env:python3.4]",
   "language": "python",
   "name": "conda-env-python3.4-py"
  },
  "language_info": {
   "codemirror_mode": {
    "name": "ipython",
    "version": 3
   },
   "file_extension": ".py",
   "mimetype": "text/x-python",
   "name": "python",
   "nbconvert_exporter": "python",
   "pygments_lexer": "ipython3",
   "version": "3.5.4"
  }
 },
 "nbformat": 4,
 "nbformat_minor": 2
}
