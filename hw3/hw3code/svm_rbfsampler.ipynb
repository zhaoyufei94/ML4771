{
 "cells": [
  {
   "cell_type": "code",
   "execution_count": 1,
   "metadata": {},
   "outputs": [],
   "source": [
    "import scipy.io\n",
    "import numpy as np\n",
    "import csv"
   ]
  },
  {
   "cell_type": "code",
   "execution_count": 2,
   "metadata": {},
   "outputs": [],
   "source": [
    "data = scipy.io.loadmat('MSdata.mat')"
   ]
  },
  {
   "cell_type": "code",
   "execution_count": 3,
   "metadata": {},
   "outputs": [
    {
     "data": {
      "text/plain": [
       "{'__globals__': [],\n",
       " '__header__': b'MATLAB 5.0 MAT-file, Platform: PCWIN64, Created on: Sun Nov 12 22:59:49 2017',\n",
       " '__version__': '1.0',\n",
       " 'testx': array([[ 45.442  , -30.74976,  31.78587, ...,  -3.86253,  36.424  ,\n",
       "           7.17309],\n",
       "        [ 52.67814,  -2.88914,  43.95268, ...,  -4.00966, -68.96211,\n",
       "          -5.21525],\n",
       "        [ 45.74235,  12.02291,  11.03009, ..., -10.92522,  26.75348,\n",
       "          -5.78743],\n",
       "        ..., \n",
       "        [ 45.12852,  12.65758, -38.72018, ...,  -6.07171,  53.96319,\n",
       "          -8.09364],\n",
       "        [ 44.16614,  32.38368,  -3.34971, ...,  20.3224 ,  14.83107,\n",
       "          39.74909],\n",
       "        [ 51.85726,  59.11655,  26.39436, ...,  -5.51512,  32.35602,\n",
       "          12.17352]]),\n",
       " 'trainx': array([[  4.99435700e+01,   2.14711400e+01,   7.30775000e+01, ...,\n",
       "          -1.82223000e+00,  -2.74634800e+01,   2.26327000e+00],\n",
       "        [  4.87321500e+01,   1.84293000e+01,   7.03267900e+01, ...,\n",
       "           1.20494100e+01,   5.84345300e+01,   2.69206100e+01],\n",
       "        [  5.09571400e+01,   3.18560200e+01,   5.58185100e+01, ...,\n",
       "          -5.85900000e-02,   3.96706800e+01,  -6.63450000e-01],\n",
       "        ..., \n",
       "        [  4.43761200e+01,   1.62531000e+00,   3.81655600e+01, ...,\n",
       "          -4.39948000e+00,   2.24294100e+01,  -4.10893000e+00],\n",
       "        [  4.48872300e+01,   1.41476000e+01,  -5.70694000e+00, ...,\n",
       "           1.15707100e+01,   1.06615090e+02,   1.68088100e+01],\n",
       "        [  5.03220100e+01,   6.71191000e+00,   5.40560700e+01, ...,\n",
       "           3.77736000e+00,  -4.29488800e+01,   5.27800000e-02]]),\n",
       " 'trainy': array([[2001],\n",
       "        [2001],\n",
       "        [2001],\n",
       "        ..., \n",
       "        [2007],\n",
       "        [2006],\n",
       "        [2007]], dtype=uint16)}"
      ]
     },
     "execution_count": 3,
     "metadata": {},
     "output_type": "execute_result"
    }
   ],
   "source": [
    "data"
   ]
  },
  {
   "cell_type": "code",
   "execution_count": 4,
   "metadata": {},
   "outputs": [],
   "source": [
    "X_test=data['testx']\n",
    "X_train=data['trainx']\n",
    "y_train=data['trainy']\n",
    "y_train=y_train.ravel()"
   ]
  },
  {
   "cell_type": "code",
   "execution_count": 5,
   "metadata": {},
   "outputs": [],
   "source": [
    "y_train=y_train.ravel()"
   ]
  },
  {
   "cell_type": "code",
   "execution_count": 6,
   "metadata": {},
   "outputs": [],
   "source": [
    "from sklearn.model_selection import GridSearchCV\n",
    "from sklearn.preprocessing import StandardScaler\n",
    "from sklearn.linear_model import LinearRegression, Ridge, Lasso, ElasticNet\n",
    "from sklearn.ensemble import RandomForestRegressor\n",
    "from sklearn.preprocessing import PolynomialFeatures\n",
    "from sklearn.model_selection import KFold\n",
    "from sklearn.pipeline import make_pipeline\n",
    "from sklearn.svm import SVR, LinearSVR\n",
    "kfold = KFold(n_splits = 5,random_state =1,shuffle=True)"
   ]
  },
  {
   "cell_type": "code",
   "execution_count": 41,
   "metadata": {},
   "outputs": [],
   "source": [
    "from sklearn.kernel_approximation import RBFSampler\n",
    "para_grid={'linearsvr__C':np.logspace(0,2,20)}\n",
    "gamma = 1. / (X_train.shape[1] * X_train.std())\n",
    "approx_rbf = RBFSampler(gamma=gamma, n_components=10000)\n",
    "scaled_svr = make_pipeline(StandardScaler(), LinearSVR(dual=False,loss='squared_epsilon_insensitive'))\n",
    "grid=GridSearchCV(scaled_svr,para_grid,cv=kfold,scoring='neg_mean_absolute_error')"
   ]
  },
  {
   "cell_type": "code",
   "execution_count": 42,
   "metadata": {},
   "outputs": [
    {
     "data": {
      "text/plain": [
       "GridSearchCV(cv=KFold(n_splits=5, random_state=1, shuffle=True),\n",
       "       error_score='raise',\n",
       "       estimator=Pipeline(memory=None,\n",
       "     steps=[('standardscaler', StandardScaler(copy=True, with_mean=True, with_std=True)), ('linearsvr', LinearSVR(C=1.0, dual=False, epsilon=0.0, fit_intercept=True,\n",
       "     intercept_scaling=1.0, loss='squared_epsilon_insensitive',\n",
       "     max_iter=1000, random_state=None, tol=0.0001, verbose=0))]),\n",
       "       fit_params=None, iid=True, n_jobs=1,\n",
       "       param_grid={'linearsvr__C': array([   1.     ,    1.27427,    1.62378,    2.06914,    2.63665,\n",
       "          3.35982,    4.28133,    5.45559,    6.95193,    8.85867,\n",
       "         11.28838,   14.3845 ,   18.32981,   23.35721,   29.76351,\n",
       "         37.9269 ,   48.3293 ,   61.58482,   78.476  ,  100.     ])},\n",
       "       pre_dispatch='2*n_jobs', refit=True, return_train_score=True,\n",
       "       scoring='neg_mean_absolute_error', verbose=0)"
      ]
     },
     "execution_count": 42,
     "metadata": {},
     "output_type": "execute_result"
    }
   ],
   "source": [
    "grid.fit(X_train,y_train)"
   ]
  },
  {
   "cell_type": "code",
   "execution_count": 43,
   "metadata": {},
   "outputs": [
    {
     "name": "stdout",
     "output_type": "stream",
     "text": [
      "{'linearsvr__C': 100.0}\n",
      "-6.79814746344\n"
     ]
    }
   ],
   "source": [
    "print(grid.best_params_)\n",
    "print(grid.best_score_)"
   ]
  },
  {
   "cell_type": "code",
   "execution_count": 22,
   "metadata": {},
   "outputs": [],
   "source": [
    "y_pred=grid.predict(X_test)\n",
    "\n",
    "header=np.array(['dataid','prediction'])\n",
    "\n",
    "header=np.array(['dataid','prediction'])\n",
    "\n",
    "with open(\"test.csv\",\"w\") as f: \n",
    "    writer = csv.writer(f)\n",
    "    writer.writerow(header)\n",
    "    for i in range(51630):\n",
    "        f.write(\"{},{}\\n\".format(i+1, int(y_pred[i])))"
   ]
  },
  {
   "cell_type": "code",
   "execution_count": 27,
   "metadata": {},
   "outputs": [
    {
     "data": {
      "text/plain": [
       "array([[  4.99435700e+01,   2.14711400e+01,   7.30775000e+01, ...,\n",
       "         -1.82223000e+00,  -2.74634800e+01,   2.26327000e+00],\n",
       "       [  4.87321500e+01,   1.84293000e+01,   7.03267900e+01, ...,\n",
       "          1.20494100e+01,   5.84345300e+01,   2.69206100e+01],\n",
       "       [  5.09571400e+01,   3.18560200e+01,   5.58185100e+01, ...,\n",
       "         -5.85900000e-02,   3.96706800e+01,  -6.63450000e-01],\n",
       "       ..., \n",
       "       [  4.43761200e+01,   1.62531000e+00,   3.81655600e+01, ...,\n",
       "         -4.39948000e+00,   2.24294100e+01,  -4.10893000e+00],\n",
       "       [  4.48872300e+01,   1.41476000e+01,  -5.70694000e+00, ...,\n",
       "          1.15707100e+01,   1.06615090e+02,   1.68088100e+01],\n",
       "       [  5.03220100e+01,   6.71191000e+00,   5.40560700e+01, ...,\n",
       "          3.77736000e+00,  -4.29488800e+01,   5.27800000e-02]])"
      ]
     },
     "execution_count": 27,
     "metadata": {},
     "output_type": "execute_result"
    }
   ],
   "source": [
    "X_train"
   ]
  },
  {
   "cell_type": "code",
   "execution_count": null,
   "metadata": {},
   "outputs": [],
   "source": []
  }
 ],
 "metadata": {
  "anaconda-cloud": {},
  "kernelspec": {
   "display_name": "Python [conda env:python3.4]",
   "language": "python",
   "name": "conda-env-python3.4-py"
  },
  "language_info": {
   "codemirror_mode": {
    "name": "ipython",
    "version": 3
   },
   "file_extension": ".py",
   "mimetype": "text/x-python",
   "name": "python",
   "nbconvert_exporter": "python",
   "pygments_lexer": "ipython3",
   "version": "3.5.4"
  }
 },
 "nbformat": 4,
 "nbformat_minor": 2
}
